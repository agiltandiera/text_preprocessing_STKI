{
 "cells": [
  {
   "cell_type": "markdown",
   "id": "9e8be108",
   "metadata": {},
   "source": [
    "#### Novrinda Agil Tandiera (D121191034)"
   ]
  },
  {
   "cell_type": "markdown",
   "id": "08cd6fea",
   "metadata": {},
   "source": [
    "#### Konversi teks uppercase menjadi lowercase\n",
    "menggunakan function lower()"
   ]
  },
  {
   "cell_type": "code",
   "execution_count": 20,
   "id": "8d6302f1",
   "metadata": {},
   "outputs": [
    {
     "name": "stdout",
     "output_type": "stream",
     "text": [
      "Sebelum diubah :\n",
      "Terdapat 5 pulau besar di Indonesia, yaitu Jawa, Sumatera, Kalimantan, Sulawesi, dan Papua\n",
      "\n",
      "Setelah diubah :\n",
      "terdapat 5 pulau besar di indonesia, yaitu jawa, sumatera, kalimantan, sulawesi, dan papua\n"
     ]
    }
   ],
   "source": [
    "print(\"Sebelum diubah :\")\n",
    "input_str = \"Terdapat 5 pulau besar di Indonesia, yaitu Jawa, Sumatera, Kalimantan, Sulawesi, dan Papua\"\n",
    "print(input_str)\n",
    "input_str = input_str.lower()\n",
    "print(\"\\nSetelah diubah :\")\n",
    "print(input_str)"
   ]
  },
  {
   "cell_type": "markdown",
   "id": "45aea800",
   "metadata": {},
   "source": [
    "#### Menghilangkan angka pada teks\n",
    "menggunakan package re (regular expression)\n",
    "\n",
    "\\d : digunakan untuk digit desimal (0-9)"
   ]
  },
  {
   "cell_type": "code",
   "execution_count": 21,
   "id": "dd35a692",
   "metadata": {},
   "outputs": [
    {
     "name": "stdout",
     "output_type": "stream",
     "text": [
      "Menghilangkan angka pada kalimat : \n",
      "Box A berisi  bola merah dan  bola putih, sedangkan box B berisi  bola merah dan  bola putih\n"
     ]
    }
   ],
   "source": [
    "import re\n",
    "print(\"Menghilangkan angka pada kalimat : \")\n",
    "input_str = \"Box A berisi 3 bola merah dan 5 bola putih, sedangkan box B berisi 4 bola merah dan 2 bola putih\"\n",
    "result = re.sub('\\d','', input_str)\n",
    "print(result)"
   ]
  },
  {
   "cell_type": "markdown",
   "id": "83cc0406",
   "metadata": {},
   "source": [
    "#### Import library NLTK (Natural Language Toolkit)\n",
    "download semua method yang ada pada nltk"
   ]
  },
  {
   "cell_type": "code",
   "execution_count": 22,
   "id": "ea67c5ca",
   "metadata": {},
   "outputs": [
    {
     "name": "stderr",
     "output_type": "stream",
     "text": [
      "[nltk_data] Downloading package stopwords to\n",
      "[nltk_data]     C:\\Users\\ASUS\\AppData\\Roaming\\nltk_data...\n",
      "[nltk_data]   Package stopwords is already up-to-date!\n"
     ]
    },
    {
     "data": {
      "text/plain": [
       "True"
      ]
     },
     "execution_count": 22,
     "metadata": {},
     "output_type": "execute_result"
    }
   ],
   "source": [
    "import nltk\n",
    "nltk.download('stopwords')"
   ]
  },
  {
   "cell_type": "markdown",
   "id": "c4dc5462",
   "metadata": {},
   "source": [
    "#### Lakukan stemming menggunakan porterStemmer pada bahasa Inggris\n",
    "Stemming : proses mengubah kata menjadi kata dasar. Misalnya \"membeli\" menjadi \"beli\""
   ]
  },
  {
   "cell_type": "code",
   "execution_count": 23,
   "id": "c4f31f1b",
   "metadata": {},
   "outputs": [
    {
     "name": "stdout",
     "output_type": "stream",
     "text": [
      "Contoh stemming tiap kata dalam bahasa inggris\n",
      "program  :  program\n",
      "programs  :  program\n",
      "programer  :  program\n",
      "programing  :  program\n",
      "programers  :  program\n"
     ]
    }
   ],
   "source": [
    "from nltk.stem import PorterStemmer    \n",
    "ps = PorterStemmer() \n",
    "\n",
    "print(\"Contoh stemming tiap kata dalam bahasa inggris\")\n",
    "kata = [\"program\", \"programs\", \"programer\", \"programing\", \"programers\"] \n",
    "  \n",
    "for k in kata: \n",
    "    print(k, \" : \", ps.stem(k))"
   ]
  },
  {
   "cell_type": "markdown",
   "id": "6bfa3320",
   "metadata": {},
   "source": [
    "#### Install sastrawi : libarary python untuk bahasa Indonesia"
   ]
  },
  {
   "cell_type": "code",
   "execution_count": 24,
   "id": "4ca4eca9",
   "metadata": {},
   "outputs": [
    {
     "name": "stdout",
     "output_type": "stream",
     "text": [
      "Requirement already satisfied: sastrawi in d:\\anaconda3\\lib\\site-packages (1.0.1)\n"
     ]
    }
   ],
   "source": [
    "!pip install sastrawi"
   ]
  },
  {
   "cell_type": "markdown",
   "id": "719f9ef8",
   "metadata": {},
   "source": [
    "#### Lakukan stemming menggunakan StemmerFactory pada bahasa Indonesia"
   ]
  },
  {
   "cell_type": "code",
   "execution_count": 25,
   "id": "355b3310",
   "metadata": {},
   "outputs": [
    {
     "name": "stdout",
     "output_type": "stream",
     "text": [
      "Contoh stemming pada kalimat bahasa Indonesia\n",
      "agil sering laksana ajar cara daring sama dosen\n"
     ]
    }
   ],
   "source": [
    "from Sastrawi.Stemmer.StemmerFactory import StemmerFactory\n",
    "factory = StemmerFactory()\n",
    "stemmer = factory.create_stemmer()\n",
    "\n",
    "print(\"Contoh stemming pada kalimat bahasa Indonesia\") \n",
    "kalimat = \"Agil sering melaksanakan pembelajaran secara daring bersama dosen\"\n",
    "\n",
    "hasil = stemmer.stem(kalimat)\n",
    "print(hasil)"
   ]
  },
  {
   "cell_type": "markdown",
   "id": "b12ea8fc",
   "metadata": {},
   "source": [
    "#### Lakukan stopwords : menghilangkan kata yang tidak memiliki arti atau tidak dibutuhkan"
   ]
  },
  {
   "cell_type": "code",
   "execution_count": 26,
   "id": "80b27b95",
   "metadata": {},
   "outputs": [
    {
     "name": "stdout",
     "output_type": "stream",
     "text": [
      "Melihat database kata yang dapat dihilangkan <<stopwords>>\n",
      "['yang', 'untuk', 'pada', 'ke', 'para', 'namun', 'menurut', 'antara', 'dia', 'dua', 'ia', 'seperti', 'jika', 'jika', 'sehingga', 'kembali', 'dan', 'tidak', 'ini', 'karena', 'kepada', 'oleh', 'saat', 'harus', 'sementara', 'setelah', 'belum', 'kami', 'sekitar', 'bagi', 'serta', 'di', 'dari', 'telah', 'sebagai', 'masih', 'hal', 'ketika', 'adalah', 'itu', 'dalam', 'bisa', 'bahwa', 'atau', 'hanya', 'kita', 'dengan', 'akan', 'juga', 'ada', 'mereka', 'sudah', 'saya', 'terhadap', 'secara', 'agar', 'lain', 'anda', 'begitu', 'mengapa', 'kenapa', 'yaitu', 'yakni', 'daripada', 'itulah', 'lagi', 'maka', 'tentang', 'demi', 'dimana', 'kemana', 'pula', 'sambil', 'sebelum', 'sesudah', 'supaya', 'guna', 'kah', 'pun', 'sampai', 'sedangkan', 'selagi', 'sementara', 'tetapi', 'apakah', 'kecuali', 'sebab', 'selain', 'seolah', 'seraya', 'seterusnya', 'tanpa', 'agak', 'boleh', 'dapat', 'dsb', 'dst', 'dll', 'dahulu', 'dulunya', 'anu', 'demikian', 'tapi', 'ingin', 'juga', 'nggak', 'mari', 'nanti', 'melainkan', 'oh', 'ok', 'seharusnya', 'sebetulnya', 'setiap', 'setidaknya', 'sesuatu', 'pasti', 'saja', 'toh', 'ya', 'walau', 'tolong', 'tentu', 'amat', 'apalagi', 'bagaimanapun']\n"
     ]
    }
   ],
   "source": [
    "from Sastrawi.StopWordRemover.StopWordRemoverFactory import StopWordRemoverFactory\n",
    " \n",
    "print(\"Melihat database kata yang dapat dihilangkan <<stopwords>>\")\n",
    "factory = StopWordRemoverFactory()\n",
    "stopwords = factory.get_stop_words()\n",
    "print(stopwords)"
   ]
  },
  {
   "cell_type": "code",
   "execution_count": 27,
   "id": "ed2aaded",
   "metadata": {},
   "outputs": [
    {
     "name": "stdout",
     "output_type": "stream",
     "text": [
      "['Mereka', 'pergi', 'sana', 'bersama', 'lain', '.', 'Namun', 'jadi']\n"
     ]
    }
   ],
   "source": [
    "from Sastrawi.StopWordRemover.StopWordRemoverFactory import StopWordRemoverFactory\n",
    "from nltk.tokenize import word_tokenize \n",
    "\n",
    "factory = StopWordRemoverFactory()\n",
    "stopword = factory.create_stop_word_remover()\n",
    "\n",
    "kalimat = \"Mereka akan pergi ke sana bersama yang lain. Namun tidak jadi\"\n",
    "\n",
    "stop = stopword.remove(kalimat)\n",
    "tokens = nltk.tokenize.word_tokenize(stop)\n",
    "\n",
    "print(tokens)"
   ]
  },
  {
   "cell_type": "code",
   "execution_count": null,
   "id": "8ab50596",
   "metadata": {},
   "outputs": [],
   "source": []
  }
 ],
 "metadata": {
  "kernelspec": {
   "display_name": "Python 3",
   "language": "python",
   "name": "python3"
  },
  "language_info": {
   "codemirror_mode": {
    "name": "ipython",
    "version": 3
   },
   "file_extension": ".py",
   "mimetype": "text/x-python",
   "name": "python",
   "nbconvert_exporter": "python",
   "pygments_lexer": "ipython3",
   "version": "3.8.8"
  }
 },
 "nbformat": 4,
 "nbformat_minor": 5
}
